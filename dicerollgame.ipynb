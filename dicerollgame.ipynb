{
  "nbformat": 4,
  "nbformat_minor": 0,
  "metadata": {
    "colab": {
      "provenance": []
    },
    "kernelspec": {
      "name": "python3",
      "display_name": "Python 3"
    },
    "language_info": {
      "name": "python"
    }
  },
  "cells": [
    {
      "cell_type": "code",
      "execution_count": 1,
      "metadata": {
        "id": "xhujPcXKVTy1"
      },
      "outputs": [],
      "source": [
        "import tkinter\n",
        "from PIL import Image, ImageTk\n",
        "import random"
      ]
    },
    {
      "cell_type": "code",
      "source": [
        "# top-level widget which represents the main window of an application\n",
        "root = tkinter.Tk()\n",
        "root.geometry('400x400')\n",
        "root.title('DataFlair Roll the Dice')"
      ],
      "metadata": {
        "id": "xrWDBpVjVe4u"
      },
      "execution_count": null,
      "outputs": []
    },
    {
      "cell_type": "code",
      "source": [
        "# Adding label into the frame\n",
        "BlankLine = tkinter.Label(root, text=\"\")\n",
        "BlankLine.pack()\n",
        "\n",
        "# adding label with different font and formatting\n",
        "HeadingLabel = tkinter.Label(root, text=\"Hello from DataFlair!\",\n",
        "   fg = \"light green\",\n",
        "     bg = \"dark green\",\n",
        "     font = \"Helvetica 16 bold italic\")\n",
        "HeadingLabel.pack()\n",
        "\n",
        "# images\n",
        "dice = ['die1.png', 'die2.png', 'die3.png',\n",
        "    'die4.png', 'die5.png', 'die6.png']\n",
        "# simulating the dice with random numbers between\n",
        "# 0 to 6 and generating image\n",
        "DiceImage = ImageTk.PhotoImage(Image.open(random.choice(dice)))\n",
        "\n",
        "# construct a label widget for image\n",
        "ImageLabel = tkinter.Label(root, image=DiceImage)\n",
        "ImageLabel.image = DiceImage\n",
        "\n",
        "# packing a widget in the parent widget\n",
        "ImageLabel.pack( expand=True)"
      ],
      "metadata": {
        "id": "o3I5QfkdVj81"
      },
      "execution_count": null,
      "outputs": []
    },
    {
      "cell_type": "code",
      "source": [
        "# images\n",
        "dice = ['die1.png', 'die2.png', 'die3.png', 'die4.png', 'die5.png', 'die6.png']\n",
        "\n",
        "# simulating the dice with random numbers between\n",
        "# 0 to 6 and generating image\n",
        "DiceImage = ImageTk.PhotoImage(Image.open(random.choice(dice)))"
      ],
      "metadata": {
        "id": "hb-TuWC8VnHR"
      },
      "execution_count": null,
      "outputs": []
    },
    {
      "cell_type": "code",
      "source": [
        "# construct a label widget for image\n",
        "ImageLabel = tkinter.Label(root, image=DiceImage)\n",
        "ImageLabel.image = DiceImage\n",
        "\n",
        "# packing a widget in the parent widget\n",
        "ImageLabel.pack( expand=True)\n",
        "\n",
        "# function activated by button\n",
        "def rolling_dice():\n",
        "    DiceImage = ImageTk.PhotoImage(Image.open(random.choice(dice)))\n",
        "    # update image\n",
        "    ImageLabel.configure(image=DiceImage)\n",
        "    # keep a reference\n",
        "    ImageLabel.image = DiceImage\n",
        "\n",
        "# adding button, and command will use rolling_dice function\n",
        "button = tkinter.Button(root, text='Roll the Dice', fg='blue', command=rolling_dice)\n",
        "\n",
        "# pack a widget in the parent widget\n",
        "button.pack( expand=True)"
      ],
      "metadata": {
        "id": "9poi39n0VpM4"
      },
      "execution_count": null,
      "outputs": []
    },
    {
      "cell_type": "code",
      "source": [
        "# call the mainloop of Tk\n",
        "# keeps window open\n",
        "root.mainloop()"
      ],
      "metadata": {
        "id": "S8OwQ1nkVrZu"
      },
      "execution_count": null,
      "outputs": []
    }
  ]
}